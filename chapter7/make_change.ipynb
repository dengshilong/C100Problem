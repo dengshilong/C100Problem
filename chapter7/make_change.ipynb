{
 "cells": [
  {
   "cell_type": "code",
   "execution_count": 1,
   "metadata": {},
   "outputs": [
    {
     "name": "stdout",
     "output_type": "stream",
     "text": [
      "1 1 [1]\n",
      "2 1 [2]\n",
      "3 1 [3]\n",
      "4 1 [4]\n",
      "5 2 [4, 1]\n",
      "6 2 [4, 2]\n",
      "7 2 [4, 3]\n",
      "8 2 [4, 4]\n",
      "9 3 [4, 4, 1]\n",
      "10 3 [4, 4, 2]\n",
      "11 3 [4, 4, 3]\n",
      "12 3 [4, 4, 4]\n",
      "13 4 [4, 4, 4, 1]\n",
      "14 4 [4, 4, 4, 2]\n",
      "15 4 [4, 4, 4, 3]\n",
      "16 4 [4, 4, 4, 4]\n",
      "17 5 [4, 4, 4, 4, 1]\n",
      "18 5 [4, 4, 4, 4, 2]\n",
      "19 5 [4, 4, 4, 4, 3]\n",
      "20 5 [4, 4, 4, 4, 4]\n"
     ]
    }
   ],
   "source": [
    "# coding: utf-8\n",
    "\n",
    "\n",
    "def make_change(n, a):\n",
    "    \"\"\"n为零钱, a为钞票面额, 找零钱使用钞票数量最少\"\"\"\n",
    "    dp = [n] * (n + 1)\n",
    "    dp[0] = 0\n",
    "    for i in range(1, n + 1):\n",
    "        for j in range(len(a)):\n",
    "            if i >= a[j]:\n",
    "                dp[i] = min(dp[i], dp[i - a[j]] + 1)\n",
    "    return dp[n]\n",
    "\n",
    "\n",
    "def make_change_method(n, a):\n",
    "    \"\"\"n为零钱, a为钞票面额, 找零钱使用钞票数量最少的一种方法\"\"\"\n",
    "    dp = [n] * (n + 1)\n",
    "    dp[0] = 0\n",
    "    for i in range(1, n + 1):\n",
    "        for j in range(len(a)):\n",
    "            if i >= a[j]:\n",
    "                dp[i] = min(dp[i], dp[i - a[j]] + 1)\n",
    "    res = []\n",
    "    i = n\n",
    "    while i > 0:\n",
    "        for j in range(len(a) - 1, -1, -1):\n",
    "            if i >= j and dp[i] == dp[i - a[j]] + 1:\n",
    "                res.append(a[j])\n",
    "                i -= a[j]\n",
    "                break\n",
    "    return res\n",
    "\n",
    "\n",
    "n = 20\n",
    "a = [1, 2, 3, 4]\n",
    "for i in range(1, n + 1):\n",
    "    print(i, make_change(i, a), make_change_method(i, a))\n"
   ]
  },
  {
   "cell_type": "code",
   "execution_count": null,
   "metadata": {},
   "outputs": [],
   "source": []
  }
 ],
 "metadata": {
  "kernelspec": {
   "display_name": "Python 3",
   "language": "python",
   "name": "python3"
  },
  "language_info": {
   "codemirror_mode": {
    "name": "ipython",
    "version": 3
   },
   "file_extension": ".py",
   "mimetype": "text/x-python",
   "name": "python",
   "nbconvert_exporter": "python",
   "pygments_lexer": "ipython3",
   "version": "3.7.3"
  }
 },
 "nbformat": 4,
 "nbformat_minor": 2
}
