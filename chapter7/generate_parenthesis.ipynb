{
 "cells": [
  {
   "cell_type": "code",
   "execution_count": 1,
   "metadata": {},
   "outputs": [
    {
     "name": "stdout",
     "output_type": "stream",
     "text": [
      "['(())', '()()']\n",
      "['((()))', '(()())', '(())()', '()(())', '()()()']\n"
     ]
    }
   ],
   "source": [
    "# coding: utf-8\n",
    "\n",
    "\"\"\"\n",
    "假设还有left个左括号和right个右括号等待匹配，根据left与right的大小可以分三种情况\n",
    "1.当 left == right 时，此时只能继续放左括号\n",
    "2.当 left < right时，可以有两个选择， 继续放一个左括号或者继续放一个右括号。\n",
    "放左括号时需要判断left是否大于0，只有left大于0时,才能继续放左括号。\n",
    "放右括号时则不需要判断。\n",
    "3.当left > right时，此时没有意义。\n",
    "\"\"\"\n",
    "\n",
    "\n",
    "def generate_parenthesis(n):\n",
    "    result = []\n",
    "    _generate_parenthesis(n, n, n, \"\", result)\n",
    "    return result\n",
    "\n",
    "\n",
    "def _generate_parenthesis(left , right, n, s, result):\n",
    "    if len(s) == n * 2:\n",
    "        result.append(s)\n",
    "    else:\n",
    "        if left == right:\n",
    "            _generate_parenthesis(left - 1, right, n, s + '(', result)\n",
    "        elif (left < right):\n",
    "            if left > 0:\n",
    "                _generate_parenthesis(left - 1, right, n, s + \"(\", result)\n",
    "            _generate_parenthesis(left, right - 1, n, s + \")\", result)\n",
    "\n",
    "\n",
    "print(generate_parenthesis(2))\n",
    "print(generate_parenthesis(3))"
   ]
  },
  {
   "cell_type": "code",
   "execution_count": null,
   "metadata": {},
   "outputs": [],
   "source": []
  }
 ],
 "metadata": {
  "kernelspec": {
   "display_name": "Python 3",
   "language": "python",
   "name": "python3"
  },
  "language_info": {
   "codemirror_mode": {
    "name": "ipython",
    "version": 3
   },
   "file_extension": ".py",
   "mimetype": "text/x-python",
   "name": "python",
   "nbconvert_exporter": "python",
   "pygments_lexer": "ipython3",
   "version": "3.7.3"
  }
 },
 "nbformat": 4,
 "nbformat_minor": 2
}
