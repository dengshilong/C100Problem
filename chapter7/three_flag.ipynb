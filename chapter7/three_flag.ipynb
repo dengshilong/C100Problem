{
 "cells": [
  {
   "cell_type": "code",
   "execution_count": 1,
   "metadata": {},
   "outputs": [
    {
     "name": "stdout",
     "output_type": "stream",
     "text": [
      "[1, 1, 1, 2, 2, 2, 3, 3]\n"
     ]
    }
   ],
   "source": [
    "# coding: utf-8\n",
    "\n",
    "\"\"\"\n",
    "把蓝色当成1、白色当成2、红色当成3\n",
    "i代表1的代表从左到右的位置\n",
    "k代表3从右到左的位置\n",
    "\"\"\"\n",
    "\n",
    "\n",
    "def three_flag(x):\n",
    "    i = 0\n",
    "    j = 0\n",
    "    k = len(x) - 1\n",
    "    while j <= k:\n",
    "        if x[j] == 1:\n",
    "            if i != j:\n",
    "                x[i], x[j] = x[j], x[i]\n",
    "            i += 1\n",
    "            j += 1\n",
    "        elif x[j] == 3:\n",
    "            x[k], x[j] = x[j], x[k]\n",
    "            k -= 1\n",
    "        else:\n",
    "            j += 1\n",
    "\n",
    "\n",
    "x = [2, 1, 1, 3, 2, 1, 3, 2]\n",
    "three_flag(x)\n",
    "print(x)\n"
   ]
  },
  {
   "cell_type": "code",
   "execution_count": null,
   "metadata": {},
   "outputs": [],
   "source": []
  }
 ],
 "metadata": {
  "kernelspec": {
   "display_name": "Python 3",
   "language": "python",
   "name": "python3"
  },
  "language_info": {
   "codemirror_mode": {
    "name": "ipython",
    "version": 3
   },
   "file_extension": ".py",
   "mimetype": "text/x-python",
   "name": "python",
   "nbconvert_exporter": "python",
   "pygments_lexer": "ipython3",
   "version": "3.7.3"
  }
 },
 "nbformat": 4,
 "nbformat_minor": 2
}
