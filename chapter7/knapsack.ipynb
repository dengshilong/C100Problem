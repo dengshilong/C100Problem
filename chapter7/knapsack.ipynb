{
 "cells": [
  {
   "cell_type": "code",
   "execution_count": 1,
   "metadata": {},
   "outputs": [],
   "source": [
    "# coding: utf-8\n",
    "\n",
    "def knapasck(a, k):\n",
    "    \"\"\"求解背包问题，如果有解，dp[i][j]用来记录前i个物品里，解的最后一个物品\"\"\"\n",
    "    n = len(a)\n",
    "    dp = [[False] * (k + 1) for i in range(n + 1)]\n",
    "    dp[0][0] = True\n",
    "    for i in range(1, n + 1):\n",
    "        for j in range(k + 1):\n",
    "            if dp[i - 1][j]:    # 如果前i - 1个物品已经得到解，则前i个物品的解也得到了\n",
    "                dp[i][j] = dp[i - 1][j]\n",
    "            elif j >= a[i - 1] and dp[i - 1][j - a[i - 1]]:\n",
    "                dp[i][j] = a[i - 1]\n",
    "    res = []\n",
    "    if dp[n][k]:\n",
    "        i = n\n",
    "        while k > 0 and i > 0:\n",
    "            res.append(dp[i][k])\n",
    "            i -= 1\n",
    "            k -= dp[i][k]\n",
    "    res.reverse()\n",
    "    return res\n",
    "\n",
    "\n",
    "assert knapasck([1, 2, 4, 7, 10, 12, 13, 15, 17], 27) == [1, 4, 10, 12]\n",
    "assert knapasck([1, 5, 10, 15, 20], 14) == []\n"
   ]
  },
  {
   "cell_type": "code",
   "execution_count": null,
   "metadata": {},
   "outputs": [],
   "source": []
  }
 ],
 "metadata": {
  "kernelspec": {
   "display_name": "Python 3",
   "language": "python",
   "name": "python3"
  },
  "language_info": {
   "codemirror_mode": {
    "name": "ipython",
    "version": 3
   },
   "file_extension": ".py",
   "mimetype": "text/x-python",
   "name": "python",
   "nbconvert_exporter": "python",
   "pygments_lexer": "ipython3",
   "version": "3.7.3"
  }
 },
 "nbformat": 4,
 "nbformat_minor": 2
}
