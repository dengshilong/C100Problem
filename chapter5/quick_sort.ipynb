{
 "cells": [
  {
   "cell_type": "code",
   "execution_count": 3,
   "metadata": {},
   "outputs": [
    {
     "name": "stdout",
     "output_type": "stream",
     "text": [
      "[1, 2, 3, 4, 6, 7]\n"
     ]
    }
   ],
   "source": [
    "# coding: utf-8\n",
    "\n",
    "\n",
    "def partition(x, left, right):\n",
    "    pivot = x[right]\n",
    "    index = left\n",
    "    for i in range(left, right):\n",
    "        if x[i] < pivot:\n",
    "            x[i], x[index] = x[index], x[i]\n",
    "            index += 1\n",
    "    x[index], x[right] = x[right], x[index]\n",
    "    return index\n",
    "\n",
    "\n",
    "def quick_sort(x):\n",
    "    _quick_sort(x, 0, len(x) - 1)\n",
    "\n",
    "\n",
    "def _quick_sort(x, left, right):\n",
    "    if left >= right:\n",
    "        return\n",
    "    index = partition(x, left, right)\n",
    "    _quick_sort(x, left, index - 1)\n",
    "    _quick_sort(x, index + 1, right)\n",
    "\n",
    "\n",
    "\n",
    "x = [7, 6, 2, 3, 4, 1]\n",
    "quick_sort(x)\n",
    "print(x)\n",
    "assert x == [1, 2, 3, 4, 6, 7]\n",
    "x = [7, 6, 5, 4]\n",
    "quick_sort(x)\n",
    "assert x == [4, 5, 6, 7]\n"
   ]
  },
  {
   "cell_type": "code",
   "execution_count": null,
   "metadata": {},
   "outputs": [],
   "source": []
  }
 ],
 "metadata": {
  "kernelspec": {
   "display_name": "Python 3",
   "language": "python",
   "name": "python3"
  },
  "language_info": {
   "codemirror_mode": {
    "name": "ipython",
    "version": 3
   },
   "file_extension": ".py",
   "mimetype": "text/x-python",
   "name": "python",
   "nbconvert_exporter": "python",
   "pygments_lexer": "ipython3",
   "version": "3.7.3"
  }
 },
 "nbformat": 4,
 "nbformat_minor": 2
}
