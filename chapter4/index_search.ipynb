{
 "cells": [
  {
   "cell_type": "code",
   "execution_count": 1,
   "metadata": {},
   "outputs": [
    {
     "name": "stdout",
     "output_type": "stream",
     "text": [
      "3\n",
      "3\n"
     ]
    }
   ],
   "source": [
    "# coding: utf-8\n",
    "\n",
    "def bad_index_search(x):\n",
    "    index = -1\n",
    "    for i in range(0, len(x)):\n",
    "        if x[i] == i + 1:\n",
    "            index = i + 1\n",
    "            break\n",
    "    return index\n",
    "\n",
    "\n",
    "def index_search(x):\n",
    "    low = 0\n",
    "    high = len(x) - 1\n",
    "    mid = int((high - low) / 2 + low / 2)\n",
    "    index = -1\n",
    "    while low <= high:\n",
    "        if x[mid] > mid + 1:\n",
    "            low = mid + 1\n",
    "        elif x[mid] < mid + 1:\n",
    "            high = mid - 1\n",
    "        else:\n",
    "            index = mid + 1\n",
    "            break\n",
    "    return index\n",
    "\n",
    "x = [-2, -1, 3, 7, 8]\n",
    "print(bad_index_search(x))\n",
    "print(index_search(x))"
   ]
  },
  {
   "cell_type": "code",
   "execution_count": null,
   "metadata": {},
   "outputs": [],
   "source": []
  }
 ],
 "metadata": {
  "kernelspec": {
   "display_name": "Python 3",
   "language": "python",
   "name": "python3"
  },
  "language_info": {
   "codemirror_mode": {
    "name": "ipython",
    "version": 3
   },
   "file_extension": ".py",
   "mimetype": "text/x-python",
   "name": "python",
   "nbconvert_exporter": "python",
   "pygments_lexer": "ipython3",
   "version": "3.7.3"
  }
 },
 "nbformat": 4,
 "nbformat_minor": 2
}
