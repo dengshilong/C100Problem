{
 "cells": [
  {
   "cell_type": "code",
   "execution_count": 1,
   "metadata": {},
   "outputs": [],
   "source": [
    "# coding: utf-8\n",
    "\n",
    "\n",
    "def longest_common_subsequence(a, b):\n",
    "    dp = [[0] * len(b) for i in range(len(a))]\n",
    "    for i in range(len(a)):\n",
    "        for j in range(len(b)):\n",
    "            if a[i] == b[j]:\n",
    "                dp[i][j] = dp[i - 1][j - 1] + 1\n",
    "            else:\n",
    "                dp[i][j] = max(dp[i][j - 1], dp[i - 1][j])\n",
    "    i = len(a) - 1\n",
    "    j = len(b) - 1\n",
    "    res = []\n",
    "    while i >= 0 and j >= 0:\n",
    "        if a[i] == b[j]:\n",
    "            res.append(a[i])\n",
    "            i -= 1\n",
    "            j -= 1\n",
    "        elif dp[i][j] == dp[i - 1][j]:\n",
    "            i -= 1\n",
    "        else:\n",
    "            j -= 1\n",
    "    return ''.join(res)[::-1]\n",
    "\n",
    "\n",
    "assert longest_common_subsequence('abcd', 'e') == ''\n",
    "assert longest_common_subsequence('abcd', 'bwdb') == 'bd'\n",
    "assert longest_common_subsequence('asdf', 'bsedf') == 'sdf'\n",
    "assert longest_common_subsequence('sdsdfsd', 'bsdfsedf') == 'sdsdf'"
   ]
  },
  {
   "cell_type": "code",
   "execution_count": null,
   "metadata": {},
   "outputs": [],
   "source": []
  }
 ],
 "metadata": {
  "kernelspec": {
   "display_name": "Python 3",
   "language": "python",
   "name": "python3"
  },
  "language_info": {
   "codemirror_mode": {
    "name": "ipython",
    "version": 3
   },
   "file_extension": ".py",
   "mimetype": "text/x-python",
   "name": "python",
   "nbconvert_exporter": "python",
   "pygments_lexer": "ipython3",
   "version": "3.7.3"
  }
 },
 "nbformat": 4,
 "nbformat_minor": 2
}
