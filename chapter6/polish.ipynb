{
 "cells": [
  {
   "cell_type": "code",
   "execution_count": 1,
   "metadata": {},
   "outputs": [],
   "source": [
    "# coding: utf-8\n",
    "\n",
    "# 运算符优先级\n",
    "ADD_SUB = 1\n",
    "MUL_DIV = 2\n",
    "BRACKET = 3\n",
    "\n",
    "\n",
    "def polish(s):\n",
    "    \"\"\"将表达式转化成反向波兰式\"\"\"\n",
    "    length = len(s)\n",
    "    op = [''] * length\n",
    "    code = [0] * length\n",
    "    i = 0\n",
    "    top = -1\n",
    "    res = []\n",
    "    cur = 0\n",
    "    while i < length:\n",
    "        if s[i].isalpha():\n",
    "            res.append(s[i])\n",
    "            i += 1\n",
    "            continue\n",
    "        elif s[i] == ' ':\n",
    "            i += 1\n",
    "            continue\n",
    "        elif s[i] == '+' or s[i] == '-':\n",
    "            cur = ADD_SUB\n",
    "        elif s[i] == '*' or s[i] == '/':\n",
    "            cur = MUL_DIV\n",
    "        else:\n",
    "            cur = BRACKET\n",
    "        while top >= 0 and code[top] >= cur and code[top] != BRACKET:\n",
    "            res.append(op[top])\n",
    "            top -= 1\n",
    "        if s[i] == ')':\n",
    "            res.append(op[top])\n",
    "            top -= 2\n",
    "        else:\n",
    "            top += 1\n",
    "            op[top] = s[i]\n",
    "            code[top] = cur\n",
    "        i += 1\n",
    "    while top >= 0:\n",
    "        res.append(op[top])\n",
    "        top -= 1\n",
    "    return ''.join(res)\n",
    "\n",
    "\n",
    "assert polish('a+b*c') == 'abc*+'\n",
    "assert polish('a*b+c') == 'ab*c+'\n",
    "assert polish('a*(b+c)') == 'abc+*'\n",
    "assert polish('a*(b+c)-(e+f)/g') == 'abc+*ef+g/-'\n",
    "assert polish('a*(a/(b+c)*c)') == 'aabc+/c**'\n"
   ]
  },
  {
   "cell_type": "code",
   "execution_count": null,
   "metadata": {},
   "outputs": [],
   "source": []
  }
 ],
 "metadata": {
  "kernelspec": {
   "display_name": "Python 3",
   "language": "python",
   "name": "python3"
  },
  "language_info": {
   "codemirror_mode": {
    "name": "ipython",
    "version": 3
   },
   "file_extension": ".py",
   "mimetype": "text/x-python",
   "name": "python",
   "nbconvert_exporter": "python",
   "pygments_lexer": "ipython3",
   "version": "3.7.3"
  }
 },
 "nbformat": 4,
 "nbformat_minor": 2
}
