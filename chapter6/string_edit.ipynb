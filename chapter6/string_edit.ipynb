{
 "cells": [
  {
   "cell_type": "code",
   "execution_count": 1,
   "metadata": {},
   "outputs": [],
   "source": [
    "# coding: utf-8\n",
    "\n",
    "\n",
    "def string_edit(a, b):\n",
    "    m = len(a)\n",
    "    n = len(b)\n",
    "    dp = [[0] * (n + 1) for i in range(m + 1)]\n",
    "    for i in range(m):\n",
    "        dp[i + 1][0] = dp[i][0] + 1\n",
    "    for i in range(n):\n",
    "        dp[0][i + 1] = dp[0][i] + 1\n",
    "    for i in range(m):\n",
    "        for j in range(n):\n",
    "            if a[i] == b[j]:\n",
    "                dp[i + 1][j + 1] = dp[i][j]\n",
    "            else:\n",
    "                dp[i + 1][j + 1] = min(dp[i + 1][j] + 1, dp[i][j + 1] + 1, dp[i][j] + 2)\n",
    "    return dp[m][n]\n",
    "\n",
    "\n",
    "assert string_edit('abcd', 'xbyd') == 4\n",
    "assert string_edit('abc', '') == 3\n",
    "assert string_edit('abc', 'ac') == 1\n",
    "assert string_edit('abcd', 'efcg') == 6\n"
   ]
  },
  {
   "cell_type": "code",
   "execution_count": null,
   "metadata": {},
   "outputs": [],
   "source": []
  }
 ],
 "metadata": {
  "kernelspec": {
   "display_name": "Python 3",
   "language": "python",
   "name": "python3"
  },
  "language_info": {
   "codemirror_mode": {
    "name": "ipython",
    "version": 3
   },
   "file_extension": ".py",
   "mimetype": "text/x-python",
   "name": "python",
   "nbconvert_exporter": "python",
   "pygments_lexer": "ipython3",
   "version": "3.7.3"
  }
 },
 "nbformat": 4,
 "nbformat_minor": 2
}
