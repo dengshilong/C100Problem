{
 "cells": [
  {
   "cell_type": "code",
   "execution_count": 1,
   "metadata": {},
   "outputs": [
    {
     "name": "stdout",
     "output_type": "stream",
     "text": [
      "12\n"
     ]
    }
   ],
   "source": [
    "# coding: utf-8\n",
    "\n",
    "\n",
    "def gt_count(f, g):\n",
    "    i = 0\n",
    "    j = 0\n",
    "    result = 0\n",
    "    while i < len(f) and j < len(g):\n",
    "        if f[i] > g[j]:\n",
    "            result += len(f) - i\n",
    "            j += 1\n",
    "        else:\n",
    "            i += 1\n",
    "    return result\n",
    "\n",
    "\n",
    "\n",
    "f = [1, 3, 5, 7, 9]\n",
    "g = [2, 3, 4, 7, 8]\n",
    "print(gt_count(f, g))\n",
    "\n"
   ]
  },
  {
   "cell_type": "code",
   "execution_count": null,
   "metadata": {},
   "outputs": [],
   "source": []
  }
 ],
 "metadata": {
  "kernelspec": {
   "display_name": "Python 3",
   "language": "python",
   "name": "python3"
  },
  "language_info": {
   "codemirror_mode": {
    "name": "ipython",
    "version": 3
   },
   "file_extension": ".py",
   "mimetype": "text/x-python",
   "name": "python",
   "nbconvert_exporter": "python",
   "pygments_lexer": "ipython3",
   "version": "3.7.3"
  }
 },
 "nbformat": 4,
 "nbformat_minor": 2
}
