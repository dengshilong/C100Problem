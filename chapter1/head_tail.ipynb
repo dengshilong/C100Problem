{
 "cells": [
  {
   "cell_type": "code",
   "execution_count": 1,
   "metadata": {},
   "outputs": [
    {
     "name": "stdout",
     "output_type": "stream",
     "text": [
      "3\n"
     ]
    }
   ],
   "source": [
    "# coding: utf-8\n",
    "\n",
    "\"\"\"\n",
    "可以用变量prefix来表示前置和，用suffix来表示后置和，\n",
    "用i表示前置和累加元素的位置，i从前往后加，用j表示后置和累加元素的位置, j从后往前加。\n",
    "当prefix > suffix时，累加后置和，也就是j向前走；\n",
    "当prefix < suffix时，累加前置和，也就是i往后走；\n",
    "当prefix == suffix时，同时累加前置和与后置和，也就是i往后走，j往前走\n",
    "\"\"\"\n",
    "\n",
    "def head_tail(nums):\n",
    "    i = 0\n",
    "    j = len(nums) - 1\n",
    "    prefix = 0\n",
    "    suffix = 0\n",
    "    result = 0\n",
    "    while i < len(nums) and j >= 0:\n",
    "        if prefix == suffix:\n",
    "            prefix += nums[i]\n",
    "            suffix += nums[j]\n",
    "            i += 1\n",
    "            j -= 1\n",
    "            result += 1\n",
    "        elif prefix > suffix:\n",
    "            suffix += nums[j]\n",
    "            j -= 1\n",
    "        else:\n",
    "            prefix += nums[i]\n",
    "            i += 1\n",
    "    return result\n",
    "\n",
    "\n",
    "\n",
    "nums = [3, 6, 2, 1, 4, 5, 2]\n",
    "print(head_tail(nums))\n"
   ]
  },
  {
   "cell_type": "code",
   "execution_count": null,
   "metadata": {},
   "outputs": [],
   "source": []
  }
 ],
 "metadata": {
  "kernelspec": {
   "display_name": "Python 3",
   "language": "python",
   "name": "python3"
  },
  "language_info": {
   "codemirror_mode": {
    "name": "ipython",
    "version": 3
   },
   "file_extension": ".py",
   "mimetype": "text/x-python",
   "name": "python",
   "nbconvert_exporter": "python",
   "pygments_lexer": "ipython3",
   "version": "3.7.3"
  }
 },
 "nbformat": 4,
 "nbformat_minor": 2
}
