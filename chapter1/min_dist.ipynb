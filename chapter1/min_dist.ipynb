{
 "cells": [
  {
   "cell_type": "code",
   "execution_count": 1,
   "metadata": {},
   "outputs": [
    {
     "name": "stdout",
     "output_type": "stream",
     "text": [
      "2\n"
     ]
    }
   ],
   "source": [
    "# coding: utf-8\n",
    "\n",
    "import sys\n",
    "\n",
    "\n",
    "def min_dist(x, y):\n",
    "    i = 0\n",
    "    j = 0\n",
    "    result = sys.maxsize\n",
    "    while i < len(x) and j < len(y):\n",
    "        if x[i] >= y[j]:\n",
    "            result = min(result, x[i] - y[j])\n",
    "            j += 1\n",
    "        else:\n",
    "            result = min(result, y[j] - x[i])\n",
    "            i += 1\n",
    "    return result\n",
    "\n",
    "\n",
    "\n",
    "x = [4, 10, 13]\n",
    "y = [2, 6, 8]\n",
    "print(min_dist(x, y))\n"
   ]
  },
  {
   "cell_type": "code",
   "execution_count": null,
   "metadata": {},
   "outputs": [],
   "source": []
  }
 ],
 "metadata": {
  "kernelspec": {
   "display_name": "Python 3",
   "language": "python",
   "name": "python3"
  },
  "language_info": {
   "codemirror_mode": {
    "name": "ipython",
    "version": 3
   },
   "file_extension": ".py",
   "mimetype": "text/x-python",
   "name": "python",
   "nbconvert_exporter": "python",
   "pygments_lexer": "ipython3",
   "version": "3.7.3"
  }
 },
 "nbformat": 4,
 "nbformat_minor": 2
}
