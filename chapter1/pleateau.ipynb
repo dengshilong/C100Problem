{
 "cells": [
  {
   "cell_type": "code",
   "execution_count": 1,
   "metadata": {},
   "outputs": [
    {
     "name": "stdout",
     "output_type": "stream",
     "text": [
      "4\n",
      "4\n"
     ]
    }
   ],
   "source": [
    "# coding: utf-8\n",
    "\n",
    "\n",
    "def pleateau(nums):\n",
    "    length = 1\n",
    "    for i in range(1, len(nums)):\n",
    "        if nums[i] == nums[i - length]:\n",
    "            length += 1\n",
    "    return length\n",
    "\n",
    "\n",
    "def pleateaub(nums):\n",
    "    length = 1\n",
    "    i = 0\n",
    "    while i + length < len(nums):\n",
    "        if nums[i] == nums[i + length]:\n",
    "            length += 1\n",
    "        else:\n",
    "            i += length\n",
    "            while 0 < i < len(nums) and nums[i] == nums[i - 1]:\n",
    "                i -= 1\n",
    "    return length\n",
    "\n",
    "\n",
    "\n",
    "nums = [1, 2, 2, 3, 3, 3, 4, 5, 5, 5, 5, 6]\n",
    "print(pleateau(nums))\n",
    "print(pleateaub(nums))\n"
   ]
  },
  {
   "cell_type": "code",
   "execution_count": null,
   "metadata": {},
   "outputs": [],
   "source": []
  }
 ],
 "metadata": {
  "kernelspec": {
   "display_name": "Python 3",
   "language": "python",
   "name": "python3"
  },
  "language_info": {
   "codemirror_mode": {
    "name": "ipython",
    "version": 3
   },
   "file_extension": ".py",
   "mimetype": "text/x-python",
   "name": "python",
   "nbconvert_exporter": "python",
   "pygments_lexer": "ipython3",
   "version": "3.7.3"
  }
 },
 "nbformat": 4,
 "nbformat_minor": 2
}
