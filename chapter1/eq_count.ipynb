{
 "cells": [
  {
   "cell_type": "code",
   "execution_count": 1,
   "metadata": {},
   "outputs": [
    {
     "name": "stdout",
     "output_type": "stream",
     "text": [
      "2\n"
     ]
    }
   ],
   "source": [
    "# coding: utf-8\n",
    "\n",
    "\n",
    "def eq_count(f, g):\n",
    "    i = 0\n",
    "    j = 0\n",
    "    result = 0\n",
    "    while i < len(f) and j < len(g):\n",
    "        if f[i] == g[j]:\n",
    "            i += 1\n",
    "            j += 1\n",
    "            result += 1\n",
    "        elif f[i] > g[j]:\n",
    "            j += 1\n",
    "        else:\n",
    "            i += 1\n",
    "    return result\n",
    "f = [1, 3, 4, 7, 9]\n",
    "g = [3, 5, 7, 8, 10]\n",
    "print(eq_count(f, g))"
   ]
  },
  {
   "cell_type": "code",
   "execution_count": 2,
   "metadata": {},
   "outputs": [
    {
     "name": "stdout",
     "output_type": "stream",
     "text": [
      "3\n"
     ]
    }
   ],
   "source": [
    "f = [1, 3, 4, 7, 9, 10]\n",
    "g = [3, 5, 7, 8, 10]\n",
    "print(eq_count(f, g))"
   ]
  },
  {
   "cell_type": "code",
   "execution_count": null,
   "metadata": {},
   "outputs": [],
   "source": []
  }
 ],
 "metadata": {
  "kernelspec": {
   "display_name": "Python 3",
   "language": "python",
   "name": "python3"
  },
  "language_info": {
   "codemirror_mode": {
    "name": "ipython",
    "version": 3
   },
   "file_extension": ".py",
   "mimetype": "text/x-python",
   "name": "python",
   "nbconvert_exporter": "python",
   "pygments_lexer": "ipython3",
   "version": "3.7.3"
  }
 },
 "nbformat": 4,
 "nbformat_minor": 2
}
