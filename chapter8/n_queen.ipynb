{
 "cells": [
  {
   "cell_type": "code",
   "execution_count": 1,
   "metadata": {},
   "outputs": [
    {
     "name": "stdout",
     "output_type": "stream",
     "text": [
      "3 0\n",
      "4 2\n",
      "5 10\n",
      "6 4\n",
      "7 40\n",
      "8 92\n"
     ]
    }
   ],
   "source": [
    "# coding: utf-8\n",
    "\n",
    "\n",
    "def n_queen(n):\n",
    "    visited = [[False] * n for i in range(0, n)]\n",
    "    count = _n_queen(visited, n, 0, 0)\n",
    "    return count\n",
    "\n",
    "\n",
    "def _n_queen(visited, n, i, count):\n",
    "    if i == n:\n",
    "        count += 1\n",
    "        return count\n",
    "    for j in range(n):\n",
    "        if judge(visited, n, i, j):\n",
    "            visited[i][j] = True        # 可以放下皇后\n",
    "            count = _n_queen(visited, n, i + 1, count)\n",
    "            visited[i][j] = False       # 回溯\n",
    "    return count\n",
    "\n",
    "\n",
    "def judge(visited, n, i, j):\n",
    "    \"\"\"判断皇后能否放到i, j这个位置\"\"\"\n",
    "    for k in range(n):\n",
    "        if visited[i][k]:       # 检查行\n",
    "            return False\n",
    "        if visited[k][j]:       # 检查列\n",
    "            return False\n",
    "\n",
    "    # 左上角到右下角这条线判断\n",
    "    t = 1\n",
    "    while i - t >= 0 and j - t >= 0:\n",
    "        if visited[i - t][j - t]:\n",
    "            return False\n",
    "        t += 1\n",
    "    t = 1\n",
    "    while i + t < n and j + t < n:\n",
    "        if visited[i + t][j + t]:\n",
    "            return False\n",
    "        t += 1\n",
    "    t = 1\n",
    "    # 左下角到右上角这条线判断\n",
    "    while i + t < n and j - t >= 0:\n",
    "        if visited[i + t][j - t]:\n",
    "            return False\n",
    "        t += 1\n",
    "    t = 1\n",
    "\n",
    "    while i - t >= 0 and j + t < n:\n",
    "        if visited[i - t][j + t]:\n",
    "            return False\n",
    "        t += 1\n",
    "    return True\n",
    "\n",
    "\n",
    "n = 8\n",
    "for i in range(3, n + 1):\n",
    "    print(i, n_queen(i))\n"
   ]
  },
  {
   "cell_type": "code",
   "execution_count": null,
   "metadata": {},
   "outputs": [],
   "source": []
  }
 ],
 "metadata": {
  "kernelspec": {
   "display_name": "Python 3",
   "language": "python",
   "name": "python3"
  },
  "language_info": {
   "codemirror_mode": {
    "name": "ipython",
    "version": 3
   },
   "file_extension": ".py",
   "mimetype": "text/x-python",
   "name": "python",
   "nbconvert_exporter": "python",
   "pygments_lexer": "ipython3",
   "version": "3.7.3"
  }
 },
 "nbformat": 4,
 "nbformat_minor": 2
}
