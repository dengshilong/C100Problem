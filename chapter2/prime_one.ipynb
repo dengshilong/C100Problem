{
 "cells": [
  {
   "cell_type": "code",
   "execution_count": 1,
   "metadata": {},
   "outputs": [
    {
     "name": "stdout",
     "output_type": "stream",
     "text": [
      "[2, 3, 5, 7, 11, 13, 17, 19, 23, 29, 31, 37, 41, 43, 47, 53, 59, 61, 67, 71, 73, 79, 83, 89, 97, 101, 103, 107, 109, 113, 127, 131, 137, 139, 149, 151, 157, 163, 167, 173, 179, 181, 191, 193, 197, 199]\n"
     ]
    }
   ],
   "source": [
    "# coding: utf-8\n",
    "import math\n",
    "\n",
    "\n",
    "def _is_prime(n, primes):\n",
    "    if n % 2 == 0 or n % 3 == 0:\n",
    "        return False\n",
    "    s = int(math.sqrt(n)) + 1\n",
    "    for p in primes:\n",
    "        if p > s:\n",
    "            break\n",
    "        if n % p == 0:\n",
    "            return False\n",
    "    return True\n",
    "\n",
    "\n",
    "def prime_one(n):\n",
    "    primes = [2, 3, 5]\n",
    "    i = 7\n",
    "    step = 2\n",
    "    while i <= n:\n",
    "        if _is_prime(i, primes):\n",
    "            primes.append(i)\n",
    "        step = 6 - step\n",
    "        i += step\n",
    "    return primes\n",
    "\n",
    "\n",
    "print(prime_one(200))\n"
   ]
  },
  {
   "cell_type": "code",
   "execution_count": null,
   "metadata": {},
   "outputs": [],
   "source": []
  }
 ],
 "metadata": {
  "kernelspec": {
   "display_name": "Python 3",
   "language": "python",
   "name": "python3"
  },
  "language_info": {
   "codemirror_mode": {
    "name": "ipython",
    "version": 3
   },
   "file_extension": ".py",
   "mimetype": "text/x-python",
   "name": "python",
   "nbconvert_exporter": "python",
   "pygments_lexer": "ipython3",
   "version": "3.7.3"
  }
 },
 "nbformat": 4,
 "nbformat_minor": 2
}
