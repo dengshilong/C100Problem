{
 "cells": [
  {
   "cell_type": "code",
   "execution_count": 2,
   "metadata": {},
   "outputs": [
    {
     "name": "stdout",
     "output_type": "stream",
     "text": [
      "[(2, 7), (8, 10), (13, 14)]\n",
      "[(18, 142), (297, 328), (388, 412), (1998, 2002)]\n",
      "[(2, 7), (8, 10), (13, 14)]\n",
      "[(18, 142), (297, 328), (388, 412), (1998, 2002)]\n"
     ]
    }
   ],
   "source": [
    "# coding: utf-8\n",
    "\n",
    "\n",
    "def bad_given_sum(n):\n",
    "    result = []\n",
    "    mid = int(n / 2)\n",
    "    for i in range(1, mid + 1):\n",
    "        s = i\n",
    "        for j in range(i + 1, mid + 1 + 1):\n",
    "            s += j\n",
    "            if s == n:\n",
    "                result.append((i, j))\n",
    "    return result\n",
    "\n",
    "\n",
    "def given_sum(n):\n",
    "    result = []\n",
    "    i = 1\n",
    "    j = i + 1\n",
    "    s = i + j\n",
    "    mid = int(n / 2)\n",
    "    while i <= mid and j <= mid + 1:\n",
    "        if s > n:\n",
    "            s -= i\n",
    "            i += 1\n",
    "        else:\n",
    "            if s == n:\n",
    "                result.append((i, j))\n",
    "            j += 1\n",
    "            s += j\n",
    "    return result\n",
    "\n",
    "\n",
    "print(bad_given_sum(27))\n",
    "print(bad_given_sum(10000))\n",
    "print(given_sum(27))\n",
    "print(given_sum(10000))"
   ]
  }
 ],
 "metadata": {
  "kernelspec": {
   "display_name": "Python 3",
   "language": "python",
   "name": "python3"
  },
  "language_info": {
   "codemirror_mode": {
    "name": "ipython",
    "version": 3
   },
   "file_extension": ".py",
   "mimetype": "text/x-python",
   "name": "python",
   "nbconvert_exporter": "python",
   "pygments_lexer": "ipython3",
   "version": "3.7.3"
  }
 },
 "nbformat": 4,
 "nbformat_minor": 2
}
