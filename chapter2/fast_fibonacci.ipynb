{
 "cells": [
  {
   "cell_type": "code",
   "execution_count": 1,
   "metadata": {},
   "outputs": [
    {
     "name": "stdout",
     "output_type": "stream",
     "text": [
      "1 1\n",
      "2 1\n",
      "3 2\n",
      "4 3\n",
      "5 5\n",
      "6 8\n",
      "7 13\n",
      "8 21\n",
      "9 34\n"
     ]
    }
   ],
   "source": [
    "# coding: utf-8\n",
    "\n",
    "\n",
    "def matrix_product(a, b):\n",
    "    \"\"\"矩阵乘积\"\"\"\n",
    "    length = len(a)\n",
    "    return [[sum(a[i][k] * b[k][j] for k in range(0, length)) for j in range(0, length)]\n",
    "            for i in range(0, length)]\n",
    "    \"\"\"等同于如下句子，但更快\"\"\"\n",
    "    # m = []\n",
    "    # for i in range(0, length):\n",
    "    #     t = []\n",
    "    #     for j in range(0, length):\n",
    "    #         s = 0\n",
    "    #         for k in range(0, length):\n",
    "    #             s += a[i][k] * b[k][j]\n",
    "    #         t.append(s)\n",
    "    #     m.append(t)\n",
    "    # return m\n",
    "\n",
    "\n",
    "def matrix_power(m, n):\n",
    "    \"\"\"矩阵自乘\"\"\"\n",
    "    if n == 0:\n",
    "        length = len(m)\n",
    "        t = [[0] * length for i in range(0, length)]\n",
    "        for i in range(0, length):\n",
    "            t[i][i] = 1\n",
    "        return t\n",
    "    if n & 1:   # n 是奇数\n",
    "        t = matrix_power(m, n - 1)\n",
    "        return matrix_product(m, t)\n",
    "    else:\n",
    "        temp = matrix_power(m, n >> 1)\n",
    "        return matrix_product(temp, temp)\n",
    "\n",
    "\n",
    "def fast_fibonacci(n):\n",
    "    if n <= 2:\n",
    "        return 1\n",
    "    m = matrix_power([[1, 1], [1, 0]], n - 2)\n",
    "    return m[0][0] + m[0][1]\n",
    "\n",
    "\n",
    "for i in range(1, 10):\n",
    "    print(i, fast_fibonacci(i))\n"
   ]
  },
  {
   "cell_type": "code",
   "execution_count": null,
   "metadata": {},
   "outputs": [],
   "source": []
  }
 ],
 "metadata": {
  "kernelspec": {
   "display_name": "Python 3",
   "language": "python",
   "name": "python3"
  },
  "language_info": {
   "codemirror_mode": {
    "name": "ipython",
    "version": 3
   },
   "file_extension": ".py",
   "mimetype": "text/x-python",
   "name": "python",
   "nbconvert_exporter": "python",
   "pygments_lexer": "ipython3",
   "version": "3.7.3"
  }
 },
 "nbformat": 4,
 "nbformat_minor": 2
}
