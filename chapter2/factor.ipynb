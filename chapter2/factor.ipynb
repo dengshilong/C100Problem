{
 "cells": [
  {
   "cell_type": "code",
   "execution_count": 1,
   "metadata": {},
   "outputs": [
    {
     "name": "stdout",
     "output_type": "stream",
     "text": [
      "2(3)3(2)\n",
      "2(3)3(2)7(1)19(2)\n"
     ]
    }
   ],
   "source": [
    "# coding: utf-8\n",
    "\n",
    "\n",
    "def factor(n):\n",
    "    s = ''\n",
    "    p = 2\n",
    "    while n > 1 and n >= p:\n",
    "        if n % p == 0:\n",
    "            count = 0\n",
    "            while n % p == 0:\n",
    "                n = int(n / p)\n",
    "                count += 1\n",
    "            s += '{}({})'.format(p, count)\n",
    "        p += 1\n",
    "    return s\n",
    "\n",
    "\n",
    "print(factor(72))\n",
    "print(factor(181944))\n"
   ]
  },
  {
   "cell_type": "code",
   "execution_count": null,
   "metadata": {},
   "outputs": [],
   "source": []
  }
 ],
 "metadata": {
  "kernelspec": {
   "display_name": "Python 3",
   "language": "python",
   "name": "python3"
  },
  "language_info": {
   "codemirror_mode": {
    "name": "ipython",
    "version": 3
   },
   "file_extension": ".py",
   "mimetype": "text/x-python",
   "name": "python",
   "nbconvert_exporter": "python",
   "pygments_lexer": "ipython3",
   "version": "3.7.3"
  }
 },
 "nbformat": 4,
 "nbformat_minor": 2
}
