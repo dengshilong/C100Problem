{
 "cells": [
  {
   "cell_type": "code",
   "execution_count": 1,
   "metadata": {},
   "outputs": [
    {
     "name": "stdout",
     "output_type": "stream",
     "text": [
      "[2, 3, 5, 7, 11, 13, 17, 19, 23, 29, 31, 37, 41, 43, 47, 53, 59, 61, 67, 71, 73, 79, 83, 89, 97, 101, 103, 107, 109, 113, 127, 131, 137, 139, 149, 151, 157, 163, 167, 173, 179, 181, 191, 193, 197, 199]\n"
     ]
    }
   ],
   "source": [
    "# coding: utf-8\n",
    "\n",
    "\n",
    "def sieve(n):\n",
    "    \"\"\"筛法得到n以内的素数\"\"\"\n",
    "    primes = [True] * (n + 1)\n",
    "    primes[0] = primes[1] = False\n",
    "    i = 2\n",
    "    while i * 2 <= n:\n",
    "        if primes[i]:\n",
    "            primes[i * 2:n + 1:i] = [False] * (int((n - i * 2) / i) + 1)\n",
    "            # 等同于如下句子，但是更快\n",
    "            # for j in range(i * 2, n + 1, i):\n",
    "            #     primes[j] = False\n",
    "        i += 1\n",
    "    return [i for i in range(n + 1) if primes[i]]\n",
    "\n",
    "\n",
    "print(sieve(200))\n"
   ]
  },
  {
   "cell_type": "code",
   "execution_count": null,
   "metadata": {},
   "outputs": [],
   "source": []
  }
 ],
 "metadata": {
  "kernelspec": {
   "display_name": "Python 3",
   "language": "python",
   "name": "python3"
  },
  "language_info": {
   "codemirror_mode": {
    "name": "ipython",
    "version": 3
   },
   "file_extension": ".py",
   "mimetype": "text/x-python",
   "name": "python",
   "nbconvert_exporter": "python",
   "pygments_lexer": "ipython3",
   "version": "3.7.3"
  }
 },
 "nbformat": 4,
 "nbformat_minor": 2
}
