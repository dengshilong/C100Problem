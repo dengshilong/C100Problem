{
 "cells": [
  {
   "cell_type": "code",
   "execution_count": 1,
   "metadata": {},
   "outputs": [
    {
     "name": "stdout",
     "output_type": "stream",
     "text": [
      "81\n",
      "81\n"
     ]
    }
   ],
   "source": [
    "# coding: utf-8\n",
    "\n",
    "\n",
    "def iteration_power(m, n):\n",
    "    p = 1\n",
    "    while n > 0:\n",
    "        if n & 1:\n",
    "            p *= m\n",
    "        n = n >> 1\n",
    "        m = m * m\n",
    "    return p\n",
    "\n",
    "\n",
    "def iteration_power_two(m, n):\n",
    "    p = 1\n",
    "    while n >= 1:\n",
    "        if n & 1:\n",
    "            p *= m\n",
    "            n -= 1\n",
    "        else:\n",
    "            m = m * m\n",
    "            n = n >> 1\n",
    "    return p\n",
    "\n",
    "\n",
    "for i in range(1, 10):\n",
    "    for j in range(1, 10):\n",
    "        assert iteration_power(i, j) == i ** j\n",
    "        assert iteration_power_two(i, j) == i ** j\n",
    "print(iteration_power(3, 4))\n",
    "print(iteration_power_two(3, 4))\n"
   ]
  },
  {
   "cell_type": "code",
   "execution_count": null,
   "metadata": {},
   "outputs": [],
   "source": []
  }
 ],
 "metadata": {
  "kernelspec": {
   "display_name": "Python 3",
   "language": "python",
   "name": "python3"
  },
  "language_info": {
   "codemirror_mode": {
    "name": "ipython",
    "version": 3
   },
   "file_extension": ".py",
   "mimetype": "text/x-python",
   "name": "python",
   "nbconvert_exporter": "python",
   "pygments_lexer": "ipython3",
   "version": "3.7.3"
  }
 },
 "nbformat": 4,
 "nbformat_minor": 2
}
