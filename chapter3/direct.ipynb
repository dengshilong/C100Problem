{
 "cells": [
  {
   "cell_type": "code",
   "execution_count": 1,
   "metadata": {},
   "outputs": [
    {
     "name": "stdout",
     "output_type": "stream",
     "text": [
      "['', '1', '2', '12', '3', '13', '23', '123']\n"
     ]
    }
   ],
   "source": [
    "# coding: utf-8\n",
    "\n",
    "\n",
    "def direct(n):\n",
    "    return _direct(1, n)\n",
    "\n",
    "\n",
    "def _direct(i, n):\n",
    "    if i > n:\n",
    "        return ['']\n",
    "    else:\n",
    "        s = []\n",
    "        result = _direct(i, n - 1)\n",
    "        s.extend(result)\n",
    "        for item in result:\n",
    "            s.append(item + str(n))\n",
    "        return s\n",
    "\n",
    "\n",
    "print(direct(3))\n"
   ]
  },
  {
   "cell_type": "code",
   "execution_count": null,
   "metadata": {},
   "outputs": [],
   "source": []
  }
 ],
 "metadata": {
  "kernelspec": {
   "display_name": "Python 3",
   "language": "python",
   "name": "python3"
  },
  "language_info": {
   "codemirror_mode": {
    "name": "ipython",
    "version": 3
   },
   "file_extension": ".py",
   "mimetype": "text/x-python",
   "name": "python",
   "nbconvert_exporter": "python",
   "pygments_lexer": "ipython3",
   "version": "3.7.3"
  }
 },
 "nbformat": 4,
 "nbformat_minor": 2
}
