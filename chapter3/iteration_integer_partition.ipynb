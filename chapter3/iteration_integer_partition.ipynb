{
 "cells": [
  {
   "cell_type": "code",
   "execution_count": 1,
   "metadata": {},
   "outputs": [
    {
     "name": "stdout",
     "output_type": "stream",
     "text": [
      "1 1\n",
      "2 2\n",
      "3 3\n",
      "4 5\n",
      "5 7\n",
      "6 11\n",
      "7 15\n",
      "8 22\n",
      "9 30\n"
     ]
    }
   ],
   "source": [
    "# coding: utf-8\n",
    "\n",
    "\n",
    "def partition(n):\n",
    "    dp = [[0 for i in range(n + 1)] for j in range(n + 1)]\n",
    "    for i in range(n + 1):\n",
    "        dp[i][1] = 1\n",
    "        dp[0][i] = 1\n",
    "    for i in range(1, n + 1):\n",
    "        for j in range(1, n + 1):\n",
    "            if i - j >= 0:\n",
    "                dp[i][j] = dp[i - j][j] + dp[i][j - 1]\n",
    "            else:\n",
    "                dp[i][j] = dp[i][j - 1]\n",
    "    return dp[n][n]\n",
    "\n",
    "\n",
    "for i in range(1, 10):\n",
    "    print(i, partition(i))"
   ]
  },
  {
   "cell_type": "code",
   "execution_count": null,
   "metadata": {},
   "outputs": [],
   "source": []
  }
 ],
 "metadata": {
  "kernelspec": {
   "display_name": "Python 3",
   "language": "python",
   "name": "python3"
  },
  "language_info": {
   "codemirror_mode": {
    "name": "ipython",
    "version": 3
   },
   "file_extension": ".py",
   "mimetype": "text/x-python",
   "name": "python",
   "nbconvert_exporter": "python",
   "pygments_lexer": "ipython3",
   "version": "3.7.3"
  }
 },
 "nbformat": 4,
 "nbformat_minor": 2
}
