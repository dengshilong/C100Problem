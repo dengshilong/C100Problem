{
 "cells": [
  {
   "cell_type": "code",
   "execution_count": 1,
   "metadata": {},
   "outputs": [
    {
     "name": "stdout",
     "output_type": "stream",
     "text": [
      "['000', '001', '011', '010', '110', '111', '101', '100']\n"
     ]
    }
   ],
   "source": [
    "# coding: utf-8\n",
    "\n",
    "\n",
    "def gray_code(n):\n",
    "    result = []\n",
    "    if n == 0:\n",
    "        result.append('')\n",
    "    else:\n",
    "        temp = gray_code(n - 1)\n",
    "        for item in temp:\n",
    "            result.append('0' + item)\n",
    "        for i in range(len(temp)):\n",
    "            result.append('1' + temp[len(temp) - i - 1])\n",
    "    return result\n",
    "\n",
    "\n",
    "print(gray_code(3))\n"
   ]
  },
  {
   "cell_type": "code",
   "execution_count": null,
   "metadata": {},
   "outputs": [],
   "source": []
  }
 ],
 "metadata": {
  "kernelspec": {
   "display_name": "Python 3",
   "language": "python",
   "name": "python3"
  },
  "language_info": {
   "codemirror_mode": {
    "name": "ipython",
    "version": 3
   },
   "file_extension": ".py",
   "mimetype": "text/x-python",
   "name": "python",
   "nbconvert_exporter": "python",
   "pygments_lexer": "ipython3",
   "version": "3.7.3"
  }
 },
 "nbformat": 4,
 "nbformat_minor": 2
}
