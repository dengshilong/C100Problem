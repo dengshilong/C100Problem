{
 "cells": [
  {
   "cell_type": "code",
   "execution_count": 1,
   "metadata": {},
   "outputs": [
    {
     "name": "stdout",
     "output_type": "stream",
     "text": [
      "1 [[1]]\n",
      "2 [[2], [1, 1]]\n",
      "3 [[3], [1, 2], [1, 1, 1]]\n",
      "4 [[4], [1, 3], [2, 2], [1, 1, 2], [1, 1, 1, 1]]\n",
      "5 [[5], [1, 4], [2, 3], [1, 1, 3], [1, 2, 2], [1, 1, 1, 2], [1, 1, 1, 1, 1]]\n",
      "6 [[6], [1, 5], [2, 4], [1, 1, 4], [3, 3], [1, 2, 3], [1, 1, 1, 3], [2, 2, 2], [1, 1, 2, 2], [1, 1, 1, 1, 2], [1, 1, 1, 1, 1, 1]]\n",
      "7 [[7], [1, 6], [2, 5], [1, 1, 5], [3, 4], [1, 2, 4], [1, 1, 1, 4], [1, 3, 3], [2, 2, 3], [1, 1, 2, 3], [1, 1, 1, 1, 3], [1, 2, 2, 2], [1, 1, 1, 2, 2], [1, 1, 1, 1, 1, 2], [1, 1, 1, 1, 1, 1, 1]]\n",
      "8 [[8], [1, 7], [2, 6], [1, 1, 6], [3, 5], [1, 2, 5], [1, 1, 1, 5], [4, 4], [1, 3, 4], [2, 2, 4], [1, 1, 2, 4], [1, 1, 1, 1, 4], [2, 3, 3], [1, 1, 3, 3], [1, 2, 2, 3], [1, 1, 1, 2, 3], [1, 1, 1, 1, 1, 3], [2, 2, 2, 2], [1, 1, 2, 2, 2], [1, 1, 1, 1, 2, 2], [1, 1, 1, 1, 1, 1, 2], [1, 1, 1, 1, 1, 1, 1, 1]]\n",
      "9 [[9], [1, 8], [2, 7], [1, 1, 7], [3, 6], [1, 2, 6], [1, 1, 1, 6], [4, 5], [1, 3, 5], [2, 2, 5], [1, 1, 2, 5], [1, 1, 1, 1, 5], [1, 4, 4], [2, 3, 4], [1, 1, 3, 4], [1, 2, 2, 4], [1, 1, 1, 2, 4], [1, 1, 1, 1, 1, 4], [3, 3, 3], [1, 2, 3, 3], [1, 1, 1, 3, 3], [2, 2, 2, 3], [1, 1, 2, 2, 3], [1, 1, 1, 1, 2, 3], [1, 1, 1, 1, 1, 1, 3], [1, 2, 2, 2, 2], [1, 1, 1, 2, 2, 2], [1, 1, 1, 1, 1, 2, 2], [1, 1, 1, 1, 1, 1, 1, 2], [1, 1, 1, 1, 1, 1, 1, 1, 1]]\n"
     ]
    }
   ],
   "source": [
    "# coding: utf-8\n",
    "\n",
    "\n",
    "def integer_partition_method(n):\n",
    "    return _integer_partition_method(n, n)\n",
    "\n",
    "\n",
    "def _integer_partition_method(n, m):\n",
    "    \"\"\"n的分割中,最大值为m的分割方式\"\"\"\n",
    "    if m == 1:\n",
    "        return [[1] * n]\n",
    "    res = []\n",
    "    if n == m:\n",
    "        res.append([n])\n",
    "    elif n > m:\n",
    "        a = _integer_partition_method(n - m, m)\n",
    "        for item in a:\n",
    "            item.append(m)\n",
    "            res.append(item)\n",
    "    b = _integer_partition_method(n, m - 1)\n",
    "    res.extend(b)\n",
    "    return res\n",
    "\n",
    "\n",
    "for i in range(1, 10):\n",
    "    print(i, integer_partition_method(i))\n"
   ]
  },
  {
   "cell_type": "code",
   "execution_count": null,
   "metadata": {},
   "outputs": [],
   "source": []
  }
 ],
 "metadata": {
  "kernelspec": {
   "display_name": "Python 3",
   "language": "python",
   "name": "python3"
  },
  "language_info": {
   "codemirror_mode": {
    "name": "ipython",
    "version": 3
   },
   "file_extension": ".py",
   "mimetype": "text/x-python",
   "name": "python",
   "nbconvert_exporter": "python",
   "pygments_lexer": "ipython3",
   "version": "3.7.3"
  }
 },
 "nbformat": 4,
 "nbformat_minor": 2
}
