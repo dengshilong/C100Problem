{
 "cells": [
  {
   "cell_type": "code",
   "execution_count": 1,
   "metadata": {},
   "outputs": [
    {
     "name": "stdout",
     "output_type": "stream",
     "text": [
      "1234\n",
      "1243\n",
      "1324\n",
      "1342\n",
      "1423\n",
      "1432\n",
      "2134\n",
      "2143\n",
      "2314\n",
      "2341\n",
      "2413\n",
      "2431\n",
      "3124\n",
      "3142\n",
      "3214\n",
      "3241\n",
      "3412\n",
      "3421\n",
      "4123\n",
      "4132\n",
      "4213\n",
      "4231\n",
      "4312\n",
      "4321\n"
     ]
    }
   ],
   "source": [
    "# coding: utf-8\n",
    "\n",
    "\n",
    "def reverse(nums, begin, end):\n",
    "    while begin < end:\n",
    "        nums[begin], nums[end] = nums[end], nums[begin]\n",
    "        begin += 1\n",
    "        end -= 1\n",
    "\n",
    "\n",
    "def permutation(n):\n",
    "    nums = [i for i in range(1, n + 1)]\n",
    "    return iteration_permutation(nums)\n",
    "\n",
    "\n",
    "def iteration_permutation(nums):\n",
    "    \"\"\"求有序数组的全排列\"\"\"\n",
    "    result = []\n",
    "    length = len(nums)\n",
    "    while True:\n",
    "        result.append(''.join(str(i) for i in nums))\n",
    "        i = length - 2\n",
    "        while i >= 0 and nums[i] > nums[i + 1]:\n",
    "            i -= 1\n",
    "        if i < 0:\n",
    "            break\n",
    "        j = length - 1\n",
    "        while j > i and nums[i] > nums[j]:\n",
    "            j -= 1\n",
    "        nums[i], nums[j] = nums[j], nums[i]\n",
    "        reverse(nums, i + 1, length - 1)\n",
    "    reverse(nums, 0, length - 1)   # 将有序数组还原\n",
    "    return result\n",
    "\n",
    "\n",
    "s = permutation(4)\n",
    "for item in s:\n",
    "    print(item)"
   ]
  },
  {
   "cell_type": "code",
   "execution_count": null,
   "metadata": {},
   "outputs": [],
   "source": []
  }
 ],
 "metadata": {
  "kernelspec": {
   "display_name": "Python 3",
   "language": "python",
   "name": "python3"
  },
  "language_info": {
   "codemirror_mode": {
    "name": "ipython",
    "version": 3
   },
   "file_extension": ".py",
   "mimetype": "text/x-python",
   "name": "python",
   "nbconvert_exporter": "python",
   "pygments_lexer": "ipython3",
   "version": "3.7.3"
  }
 },
 "nbformat": 4,
 "nbformat_minor": 2
}
