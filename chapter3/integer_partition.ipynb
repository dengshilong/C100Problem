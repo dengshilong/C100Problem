{
 "cells": [
  {
   "cell_type": "code",
   "execution_count": 1,
   "metadata": {},
   "outputs": [
    {
     "name": "stdout",
     "output_type": "stream",
     "text": [
      "1 1\n",
      "2 2\n",
      "3 3\n",
      "4 5\n",
      "5 7\n",
      "6 11\n",
      "7 15\n",
      "8 22\n",
      "9 30\n"
     ]
    }
   ],
   "source": [
    "# coding: utf-8\n",
    "\n",
    "def integer_partition(n):\n",
    "    return _integer_partition(n, n)\n",
    "\n",
    "\n",
    "def _integer_partition(n, m):\n",
    "    \"\"\"n的分割中,最大值为m的分割总数\"\"\"\n",
    "    if n < 0:\n",
    "        return 0\n",
    "    if n == 0 or m == 1:\n",
    "        return 1\n",
    "    return _integer_partition(n - m, m) + _integer_partition(n, m - 1)\n",
    "\n",
    "\n",
    "for i in range(1, 10):\n",
    "    print(i, integer_partition(i))\n"
   ]
  },
  {
   "cell_type": "code",
   "execution_count": null,
   "metadata": {},
   "outputs": [],
   "source": []
  }
 ],
 "metadata": {
  "kernelspec": {
   "display_name": "Python 3",
   "language": "python",
   "name": "python3"
  },
  "language_info": {
   "codemirror_mode": {
    "name": "ipython",
    "version": 3
   },
   "file_extension": ".py",
   "mimetype": "text/x-python",
   "name": "python",
   "nbconvert_exporter": "python",
   "pygments_lexer": "ipython3",
   "version": "3.7.3"
  }
 },
 "nbformat": 4,
 "nbformat_minor": 2
}
