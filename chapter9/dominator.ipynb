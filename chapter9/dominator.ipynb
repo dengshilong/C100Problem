{
 "cells": [
  {
   "cell_type": "code",
   "execution_count": 1,
   "metadata": {},
   "outputs": [],
   "source": [
    "# coding: utf-8\n",
    "\n",
    "\n",
    "def dominator(x):\n",
    "    s = [0] * len(x)\n",
    "    top = -1\n",
    "    dom = [-1] * len(x)     # -1代表不存在支配元素\n",
    "    for i in range(len(x)):\n",
    "        while top >= 0 and x[i] >= x[s[top]]:\n",
    "            dom[s[top]] = i\n",
    "            top -= 1\n",
    "        top += 1\n",
    "        s[top] = i\n",
    "    return dom\n",
    "\n",
    "\n",
    "assert dominator([2, 1, 3, 5, 4]) == [2, 2, 3, -1, -1]\n",
    "assert dominator([5, 4, 3, 2, 1, 6]) == [5, 5, 5, 5, 5, -1]\n",
    "assert dominator([2, 3, 3]) == [1, 2, -1]"
   ]
  },
  {
   "cell_type": "code",
   "execution_count": null,
   "metadata": {},
   "outputs": [],
   "source": []
  }
 ],
 "metadata": {
  "kernelspec": {
   "display_name": "Python 3",
   "language": "python",
   "name": "python3"
  },
  "language_info": {
   "codemirror_mode": {
    "name": "ipython",
    "version": 3
   },
   "file_extension": ".py",
   "mimetype": "text/x-python",
   "name": "python",
   "nbconvert_exporter": "python",
   "pygments_lexer": "ipython3",
   "version": "3.7.3"
  }
 },
 "nbformat": 4,
 "nbformat_minor": 2
}
