{
 "cells": [
  {
   "cell_type": "code",
   "execution_count": 1,
   "metadata": {},
   "outputs": [
    {
     "name": "stdout",
     "output_type": "stream",
     "text": [
      "9\n",
      "9\n"
     ]
    }
   ],
   "source": [
    "# coding: utf-8\n",
    "\n",
    "\n",
    "def bad_method(x):\n",
    "    max_sum = 0\n",
    "    for i in range(len(x)):\n",
    "        s = 0\n",
    "        for j in range(i, 0, -1):\n",
    "            s += x[j]\n",
    "            if s > max_sum:\n",
    "                max_sum = s\n",
    "    return max_sum\n",
    "\n",
    "\n",
    "def maximum_consecutive_sum(x):\n",
    "    max_sum = 0\n",
    "    s = 0\n",
    "    for i in range(len(x)):\n",
    "        if s < 0:\n",
    "            s = 0\n",
    "        s += x[i]\n",
    "        if s > max_sum:\n",
    "            max_sum = s\n",
    "    return max_sum\n",
    "\n",
    "\n",
    "x = [1, 2, -6, 3, -2, 4, -1, 3, 2, -4]\n",
    "print(bad_method(x))\n",
    "print(maximum_consecutive_sum(x))"
   ]
  },
  {
   "cell_type": "code",
   "execution_count": null,
   "metadata": {},
   "outputs": [],
   "source": []
  }
 ],
 "metadata": {
  "kernelspec": {
   "display_name": "Python 3",
   "language": "python",
   "name": "python3"
  },
  "language_info": {
   "codemirror_mode": {
    "name": "ipython",
    "version": 3
   },
   "file_extension": ".py",
   "mimetype": "text/x-python",
   "name": "python",
   "nbconvert_exporter": "python",
   "pygments_lexer": "ipython3",
   "version": "3.7.3"
  }
 },
 "nbformat": 4,
 "nbformat_minor": 2
}
