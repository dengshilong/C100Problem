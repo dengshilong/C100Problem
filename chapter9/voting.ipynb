{
 "cells": [
  {
   "cell_type": "code",
   "execution_count": 1,
   "metadata": {},
   "outputs": [],
   "source": [
    "# coding: utf-8\n",
    "\n",
    "\n",
    "def voting(a):\n",
    "    \"\"\"返回投票过半数的人，为0时代表不存在这样的人\"\"\"\n",
    "    m = 0\n",
    "    count = 0\n",
    "    for i in range(len(a)):\n",
    "        if count == 0:\n",
    "            m = a[i]\n",
    "            count += 1\n",
    "        else:\n",
    "            if m == a[i]:\n",
    "                count += 1\n",
    "            else:\n",
    "                count -= 1\n",
    "    if count == 0:\n",
    "        return 0\n",
    "    count = a.count(m)\n",
    "    return m if int(count * 1.0 / len(a) + 0.5) else 0\n",
    "\n",
    "\n",
    "assert voting([1, 8, 1, 100, 1]) == 1\n",
    "assert voting([1, 2, 1, 2, 3]) == 0\n"
   ]
  },
  {
   "cell_type": "code",
   "execution_count": null,
   "metadata": {},
   "outputs": [],
   "source": []
  }
 ],
 "metadata": {
  "kernelspec": {
   "display_name": "Python 3",
   "language": "python",
   "name": "python3"
  },
  "language_info": {
   "codemirror_mode": {
    "name": "ipython",
    "version": 3
   },
   "file_extension": ".py",
   "mimetype": "text/x-python",
   "name": "python",
   "nbconvert_exporter": "python",
   "pygments_lexer": "ipython3",
   "version": "3.7.3"
  }
 },
 "nbformat": 4,
 "nbformat_minor": 2
}
