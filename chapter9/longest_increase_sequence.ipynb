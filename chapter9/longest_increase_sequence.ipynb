{
 "cells": [
  {
   "cell_type": "code",
   "execution_count": 1,
   "metadata": {},
   "outputs": [],
   "source": [
    "# coding: utf-8\n",
    "\n",
    "\n",
    "def longest_increase_sequence(a):\n",
    "    dp = [0] * (len(a) + 1)\n",
    "    dp[1] = a[0]\n",
    "    length = 1\n",
    "    for item in a:\n",
    "        if item > dp[length]:\n",
    "            length += 1\n",
    "            dp[length] = item\n",
    "        else:\n",
    "            for i in range(length, 0, -1):\n",
    "                if dp[i-1] <= item < dp[i]:\n",
    "                    break\n",
    "            dp[i] = item\n",
    "    return length\n",
    "\n",
    "\n",
    "assert longest_increase_sequence([1, 3, 5, 7, 8, 2, 9, 4, 10, 6]) == 7\n",
    "assert longest_increase_sequence([2, 3, -1, 2, 3, 4]) == 4\n",
    "\n",
    "\n",
    "\n"
   ]
  },
  {
   "cell_type": "code",
   "execution_count": null,
   "metadata": {},
   "outputs": [],
   "source": []
  }
 ],
 "metadata": {
  "kernelspec": {
   "display_name": "Python 3",
   "language": "python",
   "name": "python3"
  },
  "language_info": {
   "codemirror_mode": {
    "name": "ipython",
    "version": 3
   },
   "file_extension": ".py",
   "mimetype": "text/x-python",
   "name": "python",
   "nbconvert_exporter": "python",
   "pygments_lexer": "ipython3",
   "version": "3.7.3"
  }
 },
 "nbformat": 4,
 "nbformat_minor": 2
}
